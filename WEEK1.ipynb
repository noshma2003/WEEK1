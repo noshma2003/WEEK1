{
  "nbformat": 4,
  "nbformat_minor": 0,
  "metadata": {
    "colab": {
      "provenance": []
    },
    "kernelspec": {
      "name": "python3",
      "display_name": "Python 3"
    },
    "language_info": {
      "name": "python"
    }
  },
  "cells": [
    {
      "cell_type": "code",
      "execution_count": 10,
      "metadata": {
        "colab": {
          "base_uri": "https://localhost:8080/"
        },
        "id": "MRJbEIsgquUd",
        "outputId": "f09d3131-50b9-4d3b-8a3c-138b3fd73fe3"
      },
      "outputs": [
        {
          "output_type": "stream",
          "name": "stdout",
          "text": [
            "Hello there! Let's get to know you.\n",
            "---------------------------------\n",
            "What is your name? Routu Noshma\n",
            "How old are you? 22\n",
            "What is your favorite hobby? Aspiring Coder\n",
            "\n",
            "--- Your Personalized Welcome ---\n",
            "Welcome, Routu Noshma! \n",
            "It's great to know that you are 22 years old.\n",
            "What a fun hobby! Aspiring Coder sounds like a wonderful way to spend time.\n",
            "Happy coding!\n",
            "---------------------------------\n"
          ]
        }
      ],
      "source": [
        "# --- Personal Introduction ---\n",
        "\n",
        "print(\"Hello there! Let's get to know you.\")\n",
        "print(\"---------------------------------\")\n",
        "\n",
        "# 1. Gather User Input\n",
        "user_name = input(\"What is your name? \")\n",
        "user_age = input(\"How old are you? \")\n",
        "user_hobby = input(\"What is your favorite hobby? \")\n",
        "\n",
        "# 2. Display the Friendly Welcome Message\n",
        "print(\"\\n--- Your Personalized Welcome ---\")\n",
        "print(f\"Welcome, {user_name}! \")\n",
        "print(f\"It's great to know that you are {user_age} years old.\")\n",
        "print(f\"What a fun hobby! {user_hobby} sounds like a wonderful way to spend time.\")\n",
        "print(\"Happy coding!\")\n",
        "print(\"---------------------------------\")"
      ]
    }
  ]
}