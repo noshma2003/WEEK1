{
  "nbformat": 4,
  "nbformat_minor": 0,
  "metadata": {
    "colab": {
      "provenance": []
    },
    "kernelspec": {
      "name": "python3",
      "display_name": "Python 3"
    },
    "language_info": {
      "name": "python"
    }
  },
  "cells": [
    {
      "cell_type": "code",
      "execution_count": null,
      "metadata": {
        "id": "4fcrmMQ6MnJm"
      },
      "outputs": [],
      "source": []
    },
    {
      "cell_type": "code",
      "metadata": {
        "colab": {
          "base_uri": "https://localhost:8080/"
        },
        "id": "7c41c5be",
        "outputId": "910514be-5b3f-4579-f9d0-e3ba1aa0a24f"
      },
      "source": [
        "def calculate_grade(marks):\n",
        "    \"\"\"Calculates the grade based on the provided marks.\"\"\"\n",
        "    if marks >= 90:\n",
        "        return \"A\", \"Excellent work! Keep up the great effort.\"\n",
        "    elif marks >= 80:\n",
        "        return \"B\", \"Very good! You're doing well.\"\n",
        "    elif marks >= 70:\n",
        "        return \"C\", \"Good job! There's always room for improvement.\"\n",
        "    elif marks >= 60:\n",
        "        return \"D\", \"You passed! Keep studying to improve.\"\n",
        "    else:\n",
        "        return \"F\", \"Don't worry, keep trying! You can do it.\"\n",
        "\n",
        "# Get marks from the user\n",
        "try:\n",
        "    student_marks = float(input(\"Enter student's marks: \"))\n",
        "\n",
        "    # Calculate grade and get the message\n",
        "    grade, message = calculate_grade(student_marks)\n",
        "\n",
        "    # Display the result\n",
        "    print(f\"Grade: {grade}\")\n",
        "    print(f\"Message: {message}\")\n",
        "\n",
        "except ValueError:\n",
        "    print(\"Invalid input. Please enter a valid number for marks.\")"
      ],
      "execution_count": 1,
      "outputs": [
        {
          "output_type": "stream",
          "name": "stdout",
          "text": [
            "Enter student's marks: 20\n",
            "Grade: F\n",
            "Message: Don't worry, keep trying! You can do it.\n"
          ]
        }
      ]
    }
  ]
}